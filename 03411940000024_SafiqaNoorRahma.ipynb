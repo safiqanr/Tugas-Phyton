{
 "cells": [
  {
   "cell_type": "code",
   "execution_count": null,
   "metadata": {},
   "outputs": [
    {
     "name": "stdout",
     "output_type": "stream",
     "text": [
      " 1: Celsius To Fahrenheit, Reamur, and Kelvin\n",
      " 3: Fahrenheit To Celsius, Reamur, and Kelvin\n",
      " 5: Reamur To Celsius, Fahrenheit, and Kelvin\n",
      " 7: Kelvin To Celsius, Fahrenheit, and Reamur\n"
     ]
    }
   ],
   "source": [
    "#Temperature Converter\n",
    "print (\" 1: Celsius To Fahrenheit, Reamur, and Kelvin\") #change Celsius to F,R,K\n",
    "print (\" 3: Fahrenheit To Celsius, Reamur, and Kelvin\") #change Fahrenheit to C,R,K\n",
    "print (\" 5: Reamur To Celsius, Fahrenheit, and Kelvin\") #change Reamur to C,F,K\n",
    "print (\" 7: Kelvin To Celsius, Fahrenheit, and Reamur\") #change Kelvin to C,F,R\n",
    "def option (): #define function so we can choose to print 1,3,5,or 7\n",
    "    op = int(input(\" Enter Option : \"))\n",
    "    if op == 1: #print 1 if you want to change temperature from Celsius to others\n",
    "        cfrk()\n",
    "    elif op == 3: #print 3 if you want to change temperature from Fahrenheit to others\n",
    "        fcrk ()\n",
    "    elif op == 5: #print 5 if you want to change temperature from Reamur to others\n",
    "        rcfk ()\n",
    "    elif op == 7: #print 7 if you want to change temperature from Kelvin to others\n",
    "        kcfr ()\n",
    "    else : #Will be an invalid input if you print another number (beside 1,3,5,7)\n",
    "        print (\"invalid input...\")\n",
    "        option ()\n",
    "        \n",
    "def cfrk (): #define function so we can change Celsius to others\n",
    "    c = float(input(\" Enter Celsius (Degree) : \"))\n",
    "    f = ((9 / 5) * c) + 32\n",
    "    r = (4 / 5) * c\n",
    "    k = c + 273 \n",
    "    print (\" Temperature : \",c,\" Degree Celsius & \",f,\" Degree Fahrenheit & \",r,\" Degree Reamur & \",k,\" Kelvin\") #to Show the result in F,R,K\n",
    "    \n",
    "def fcrk (): #define function so we can change Fahrenheit to others\n",
    "    f = float(input(\"Enter Fahrenheit (Degree) : \"))\n",
    "    c =( 5 / 9 ) * (f-32)\n",
    "    r = (4 / 9) * (f-32)\n",
    "    k = ((f * 5 )/9 )+ 273\n",
    "    print (\" Temperature : \",f,\" Degree Fahrenheit & \",c,\" Degree Celsius & \",r,\" Degree Reamur & \",k,\" Kelvin\") #to Show the result in C,R,K\n",
    "    \n",
    "def rcfk (): #define function so we can change Reamur to others\n",
    "    r = float(input(\"Enter Reamur (Degree) : \"))\n",
    "    c =( 5 /4 )* r\n",
    "    f =(( 9 /4) * r ) + 32\n",
    "    k = ( (r * 5) /4 ) + 273\n",
    "    print (\" Temperature : \",r,\" Degree Reamur & \",c,\" Degree Celsius & \",f,\" Degree Fahrenheit & \",k,\" Kelvin\") #to Show the result in C,F,K \n",
    "\n",
    "def kcfr (): #define function so we can change Kelvin to others \n",
    "    k = float(input(\"Enter Kelvin: \"))\n",
    "    c = k - 273\n",
    "    f =(( 9 / 5 )* ( k - 273 )) + 32\n",
    "    r =(( 4 / 5) * ( k - 273 ))\n",
    "    print (\" Temperature : \",k,\" Kelvin & \",c,\" Degree Celsius & \",f,\" Degree Fahrenheit & \",r,\" Degree Reamur\") #to show the result in C,F,R\n",
    "option()"
   ]
  },
  {
   "cell_type": "code",
   "execution_count": null,
   "metadata": {},
   "outputs": [],
   "source": []
  }
 ],
 "metadata": {
  "kernelspec": {
   "display_name": "Python 3",
   "language": "python",
   "name": "python3"
  },
  "language_info": {
   "codemirror_mode": {
    "name": "ipython",
    "version": 3
   },
   "file_extension": ".py",
   "mimetype": "text/x-python",
   "name": "python",
   "nbconvert_exporter": "python",
   "pygments_lexer": "ipython3",
   "version": "3.7.4"
  }
 },
 "nbformat": 4,
 "nbformat_minor": 2
}
